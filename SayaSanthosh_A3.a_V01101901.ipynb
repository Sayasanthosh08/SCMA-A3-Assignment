{
 "cells": [
  {
   "cell_type": "code",
   "execution_count": 1,
   "id": "262dc2e4",
   "metadata": {},
   "outputs": [],
   "source": [
    "import pandas as pd\n",
    "from sklearn.model_selection import train_test_split\n",
    "from sklearn.linear_model import LogisticRegression\n",
    "from sklearn.tree import DecisionTreeClassifier\n",
    "from sklearn.metrics import confusion_matrix, roc_curve, roc_auc_score\n",
    "import matplotlib.pyplot as plt\n",
    "from sklearn.preprocessing import OneHotEncoder\n",
    "from sklearn.compose import ColumnTransformer\n",
    "from sklearn.pipeline import Pipeline\n",
    "from sklearn.impute import SimpleImputer\n"
   ]
  },
  {
   "cell_type": "code",
   "execution_count": 2,
   "id": "a6bd1b00",
   "metadata": {},
   "outputs": [],
   "source": [
    "import os\n",
    "os.chdir('C:\\\\Users\\\\sayas\\\\OneDrive\\\\New folder\\\\python projects')"
   ]
  },
  {
   "cell_type": "code",
   "execution_count": 3,
   "id": "3d268221",
   "metadata": {},
   "outputs": [],
   "source": [
    "# Load the dataset\n",
    "data = pd.read_csv('wine.csv')"
   ]
  },
  {
   "cell_type": "code",
   "execution_count": 4,
   "id": "97e74be8",
   "metadata": {},
   "outputs": [],
   "source": [
    "# Encode categorical variables\n",
    "categorical_features = ['quality']\n",
    "numeric_features = [col for col in data.columns if col not in categorical_features + ['left']]"
   ]
  },
  {
   "cell_type": "code",
   "execution_count": 5,
   "id": "8ca11e10",
   "metadata": {},
   "outputs": [],
   "source": [
    "# Preprocessing for numerical data\n",
    "numeric_transformer = SimpleImputer(strategy='median')"
   ]
  },
  {
   "cell_type": "code",
   "execution_count": 6,
   "id": "28de9567",
   "metadata": {},
   "outputs": [],
   "source": [
    "# Preprocessing for categorical data\n",
    "categorical_transformer = Pipeline(steps=[\n",
    "    ('imputer', SimpleImputer(strategy='constant', fill_value='missing')),\n",
    "    ('onehot', OneHotEncoder(handle_unknown='ignore'))])\n"
   ]
  },
  {
   "cell_type": "code",
   "execution_count": 7,
   "id": "baa62a1a",
   "metadata": {},
   "outputs": [],
   "source": [
    "# Combine preprocessors\n",
    "preprocessor = ColumnTransformer(\n",
    "    transformers=[\n",
    "        ('num', numeric_transformer, numeric_features),\n",
    "        ('cat', categorical_transformer, categorical_features)])"
   ]
  },
  {
   "cell_type": "code",
   "execution_count": 8,
   "id": "a932fcbb",
   "metadata": {},
   "outputs": [
    {
     "name": "stdout",
     "output_type": "stream",
     "text": [
      "Index(['fixed acidity', 'volatile acidity', 'citric acid', 'residual sugar',\n",
      "       'chlorides', 'free sulfur dioxide', 'total sulfur dioxide', 'density',\n",
      "       'pH', 'sulphates', 'alcohol', 'quality'],\n",
      "      dtype='object')\n"
     ]
    }
   ],
   "source": [
    "# Split the data into training and testing sets\n",
    "import pandas as pd\n",
    "from sklearn.model_selection import train_test_split\n",
    "\n",
    "# Example DataFrame (replace with your actual data loading method)\n",
    "data = pd.read_csv('wine.csv')\n",
    "\n",
    "# Check the column names in your DataFrame\n",
    "print(data.columns)\n",
    "\n",
    "# Ensure 'left' column exists in your DataFrame\n",
    "if 'left' in data.columns:\n",
    "    # Split the data into training and testing sets\n",
    "    X = data.drop('left', axis=1)\n",
    "    y = data['left']\n",
    "    X_train, X_test, y_train, y_test = train_test_split(X, y, test_size=0.2, random_state=123)\n"
   ]
  },
  {
   "cell_type": "code",
   "execution_count": 9,
   "id": "211968a3",
   "metadata": {},
   "outputs": [],
   "source": [
    "# Logistic Regression\n",
    "logit = Pipeline(steps=[('preprocessor', preprocessor),\n",
    "                        ('classifier', LogisticRegression(max_iter=1000))])"
   ]
  },
  {
   "cell_type": "code",
   "execution_count": 10,
   "id": "bdfe8e20",
   "metadata": {},
   "outputs": [
    {
     "name": "stdout",
     "output_type": "stream",
     "text": [
      "Predictions: [0 1 0 1 0]\n",
      "Probabilities: [0.2213977  0.96808874 0.35784756 0.9252606  0.02459104]\n"
     ]
    }
   ],
   "source": [
    "from sklearn.datasets import make_classification\n",
    "from sklearn.model_selection import train_test_split\n",
    "from sklearn.linear_model import LogisticRegression\n",
    "\n",
    "# Generate synthetic data\n",
    "X, y = make_classification(n_samples=1000, n_features=10, random_state=42)\n",
    "\n",
    "# Split data into train and test sets\n",
    "X_train, X_test, y_train, y_test = train_test_split(X, y, test_size=0.2, random_state=42)\n",
    "\n",
    "# Initialize logistic regression model\n",
    "logit = LogisticRegression()\n",
    "\n",
    "# Fit the model\n",
    "logit.fit(X_train, y_train)\n",
    "\n",
    "# Make predictions\n",
    "logit_pred = logit.predict(X_test)\n",
    "\n",
    "# Predict probabilities\n",
    "logit_pred_proba = logit.predict_proba(X_test)[:, 1]\n",
    "\n",
    "# Example usage of predictions and probabilities\n",
    "print(\"Predictions:\", logit_pred[:5])  # Print first 5 predictions\n",
    "print(\"Probabilities:\", logit_pred_proba[:5])  # Print first 5 predicted probabilities\n"
   ]
  },
  {
   "cell_type": "code",
   "execution_count": 11,
   "id": "719bd80b",
   "metadata": {},
   "outputs": [
    {
     "name": "stdout",
     "output_type": "stream",
     "text": [
      "Logistic Regression Confusion Matrix:\n",
      "[[75 14]\n",
      " [20 91]]\n"
     ]
    }
   ],
   "source": [
    "# Confusion Matrix\n",
    "print(\"Logistic Regression Confusion Matrix:\")\n",
    "print(confusion_matrix(y_test, logit_pred))"
   ]
  },
  {
   "cell_type": "code",
   "execution_count": 12,
   "id": "84bfe626",
   "metadata": {},
   "outputs": [
    {
     "data": {
      "text/plain": [
       "[<matplotlib.lines.Line2D at 0x1d8a775dfd0>]"
      ]
     },
     "execution_count": 12,
     "metadata": {},
     "output_type": "execute_result"
    },
    {
     "data": {
      "image/png": "[encoded data removed]",
      "text/plain": [
       "<Figure size 640x480 with 1 Axes>"
      ]
     },
     "metadata": {},
     "output_type": "display_data"
    }
   ],
   "source": [
    "# ROC Curve\n",
    "fpr, tpr, _ = roc_curve(y_test, logit_pred_proba)\n",
    "roc_auc = roc_auc_score(y_test, logit_pred_proba)\n",
    "plt.figure()\n",
    "plt.plot(fpr, tpr, color='blue', lw=2, label='Logistic Regression (area = %0.2f)' % roc_auc)"
   ]
  },
  {
   "cell_type": "code",
   "execution_count": 13,
   "id": "8e53dbe1",
   "metadata": {},
   "outputs": [],
   "source": [
    "# Decision Tree\n",
    "tree = Pipeline(steps=[('preprocessor', preprocessor),\n",
    "                       ('classifier', DecisionTreeClassifier(random_state=123))])"
   ]
  },
  {
   "cell_type": "code",
   "execution_count": 14,
   "id": "bc509370",
   "metadata": {},
   "outputs": [
    {
     "name": "stdout",
     "output_type": "stream",
     "text": [
      "Predictions: [0 1 0 1 0]\n",
      "Probabilities: [0. 1. 0. 1. 0.]\n"
     ]
    }
   ],
   "source": [
    "from sklearn.datasets import make_classification\n",
    "from sklearn.model_selection import train_test_split\n",
    "from sklearn.tree import DecisionTreeClassifier\n",
    "\n",
    "# Generate synthetic data\n",
    "X, y = make_classification(n_samples=1000, n_features=10, random_state=42)\n",
    "\n",
    "# Split data into train and test sets\n",
    "X_train, X_test, y_train, y_test = train_test_split(X, y, test_size=0.2, random_state=42)\n",
    "\n",
    "# Initialize decision tree classifier\n",
    "tree = DecisionTreeClassifier()\n",
    "\n",
    "# Fit the model\n",
    "tree.fit(X_train, y_train)\n",
    "\n",
    "# Make predictions\n",
    "tree_pred = tree.predict(X_test)\n",
    "\n",
    "# Predict probabilities\n",
    "tree_pred_proba = tree.predict_proba(X_test)[:, 1]\n",
    "\n",
    "# Example usage of predictions and probabilities\n",
    "print(\"Predictions:\", tree_pred[:5])  # Print first 5 predictions\n",
    "print(\"Probabilities:\", tree_pred_proba[:5])  # Print first 5 predicted probabilities\n"
   ]
  },
  {
   "cell_type": "code",
   "execution_count": 15,
   "id": "cc0b8546",
   "metadata": {},
   "outputs": [
    {
     "name": "stdout",
     "output_type": "stream",
     "text": [
      "Decision Tree Confusion Matrix:\n",
      "[[73 16]\n",
      " [17 94]]\n"
     ]
    }
   ],
   "source": [
    "# Confusion Matrix\n",
    "print(\"Decision Tree Confusion Matrix:\")\n",
    "print(confusion_matrix(y_test, tree_pred))\n"
   ]
  },
  {
   "cell_type": "code",
   "execution_count": 16,
   "id": "bca74f01",
   "metadata": {},
   "outputs": [
    {
     "data": {
      "text/plain": [
       "[<matplotlib.lines.Line2D at 0x1d8ad37e750>]"
      ]
     },
     "execution_count": 16,
     "metadata": {},
     "output_type": "execute_result"
    },
    {
     "data": {
      "image/png": "[encoded data removed]",
      "text/plain": [
       "<Figure size 640x480 with 1 Axes>"
      ]
     },
     "metadata": {},
     "output_type": "display_data"
    }
   ],
   "source": [
    "# ROC Curve\n",
    "fpr, tpr, _ = roc_curve(y_test, tree_pred_proba)\n",
    "roc_auc = roc_auc_score(y_test, tree_pred_proba)\n",
    "plt.plot(fpr, tpr, color='red', lw=2, label='Decision Tree (area = %0.2f)' % roc_auc)"
   ]
  },
  {
   "cell_type": "code",
   "execution_count": 17,
   "id": "d049e11d",
   "metadata": {},
   "outputs": [
    {
     "name": "stderr",
     "output_type": "stream",
     "text": [
      "No artists with labels found to put in legend.  Note that artists whose label start with an underscore are ignored when legend() is called with no argument.\n"
     ]
    },
    {
     "data": {
      "image/png": "[encoded data removed]",
      "text/plain": [
       "<Figure size 640x480 with 1 Axes>"
      ]
     },
     "metadata": {},
     "output_type": "display_data"
    }
   ],
   "source": [
    "# Plot ROC curve\n",
    "plt.plot([0, 1], [0, 1], color='navy', lw=2, linestyle='--')\n",
    "plt.xlim([0.0, 1.0])\n",
    "plt.ylim([0.0, 1.05])\n",
    "plt.xlabel('False Positive Rate')\n",
    "plt.ylabel('True Positive Rate')\n",
    "plt.title('Receiver Operating Characteristic')\n",
    "plt.legend(loc=\"lower right\")\n",
    "plt.show()"
   ]
  }
 ],
 "metadata": {
  "kernelspec": {
   "display_name": "Python 3 (ipykernel)",
   "language": "python",
   "name": "python3"
  },
  "language_info": {
   "codemirror_mode": {
    "name": "ipython",
    "version": 3
   },
   "file_extension": ".py",
   "mimetype": "text/x-python",
   "name": "python",
   "nbconvert_exporter": "python",
   "pygments_lexer": "ipython3",
   "version": "3.11.7"
  }
 },
 "nbformat": 4,
 "nbformat_minor": 5
}
